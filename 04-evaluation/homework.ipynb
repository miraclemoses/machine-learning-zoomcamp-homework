{
 "cells": [
  {
   "cell_type": "markdown",
   "id": "9968a2e3",
   "metadata": {},
   "source": [
    "# Homework 04 - Evaluation Metrics for Classification\n"
   ]
  },
  {
   "cell_type": "code",
   "execution_count": 1,
   "id": "b892eb8e",
   "metadata": {},
   "outputs": [],
   "source": [
    "import numpy as np\n",
    "import pandas as pd\n",
    "\n",
    "import matplotlib.pyplot as plt\n",
    "import seaborn as sns\n",
    "\n",
    "from sklearn.model_selection import train_test_split, KFold\n",
    "from sklearn.feature_extraction import DictVectorizer\n",
    "from sklearn.linear_model import LogisticRegression\n",
    "from sklearn.metrics import roc_auc_score\n",
    "from sklearn.metrics import precision_score, recall_score"
   ]
  },
  {
   "cell_type": "markdown",
   "id": "0759e133",
   "metadata": {},
   "source": [
    "## Data preparation\n",
    "\n",
    "- Check if the missing values are presented in the features.\n",
    "- If there are missing values:\n",
    "  - For caterogiral features, replace them with 'NA'\n",
    "  - For numerical features, replace with with 0.0\n"
   ]
  },
  {
   "cell_type": "code",
   "execution_count": 2,
   "id": "a7a519bd",
   "metadata": {},
   "outputs": [],
   "source": [
    "sns.set(style=\"whitegrid\")"
   ]
  },
  {
   "cell_type": "code",
   "execution_count": 3,
   "id": "1385dfd0",
   "metadata": {},
   "outputs": [
    {
     "data": {
      "application/vnd.microsoft.datawrangler.viewer.v0+json": {
       "columns": [
        {
         "name": "index",
         "rawType": "int64",
         "type": "integer"
        },
        {
         "name": "lead_source",
         "rawType": "object",
         "type": "unknown"
        },
        {
         "name": "industry",
         "rawType": "object",
         "type": "string"
        },
        {
         "name": "number_of_courses_viewed",
         "rawType": "int64",
         "type": "integer"
        },
        {
         "name": "annual_income",
         "rawType": "float64",
         "type": "float"
        },
        {
         "name": "employment_status",
         "rawType": "object",
         "type": "unknown"
        },
        {
         "name": "location",
         "rawType": "object",
         "type": "string"
        },
        {
         "name": "interaction_count",
         "rawType": "int64",
         "type": "integer"
        },
        {
         "name": "lead_score",
         "rawType": "float64",
         "type": "float"
        },
        {
         "name": "converted",
         "rawType": "int64",
         "type": "integer"
        }
       ],
       "ref": "85f8b176-c569-4df4-8eec-73d74183b6a4",
       "rows": [
        [
         "892",
         "social_media",
         "manufacturing",
         "2",
         "56070.0",
         "self_employed",
         "middle_east",
         "2",
         "0.23",
         "1"
        ],
        [
         "1106",
         null,
         "other",
         "1",
         "78409.0",
         null,
         "australia",
         "4",
         "0.79",
         "0"
        ],
        [
         "413",
         "referral",
         "manufacturing",
         "2",
         "66206.0",
         "employed",
         "australia",
         "3",
         "0.3",
         "1"
        ]
       ],
       "shape": {
        "columns": 9,
        "rows": 3
       }
      },
      "text/html": [
       "<div>\n",
       "<style scoped>\n",
       "    .dataframe tbody tr th:only-of-type {\n",
       "        vertical-align: middle;\n",
       "    }\n",
       "\n",
       "    .dataframe tbody tr th {\n",
       "        vertical-align: top;\n",
       "    }\n",
       "\n",
       "    .dataframe thead th {\n",
       "        text-align: right;\n",
       "    }\n",
       "</style>\n",
       "<table border=\"1\" class=\"dataframe\">\n",
       "  <thead>\n",
       "    <tr style=\"text-align: right;\">\n",
       "      <th></th>\n",
       "      <th>lead_source</th>\n",
       "      <th>industry</th>\n",
       "      <th>number_of_courses_viewed</th>\n",
       "      <th>annual_income</th>\n",
       "      <th>employment_status</th>\n",
       "      <th>location</th>\n",
       "      <th>interaction_count</th>\n",
       "      <th>lead_score</th>\n",
       "      <th>converted</th>\n",
       "    </tr>\n",
       "  </thead>\n",
       "  <tbody>\n",
       "    <tr>\n",
       "      <th>892</th>\n",
       "      <td>social_media</td>\n",
       "      <td>manufacturing</td>\n",
       "      <td>2</td>\n",
       "      <td>56070.0</td>\n",
       "      <td>self_employed</td>\n",
       "      <td>middle_east</td>\n",
       "      <td>2</td>\n",
       "      <td>0.23</td>\n",
       "      <td>1</td>\n",
       "    </tr>\n",
       "    <tr>\n",
       "      <th>1106</th>\n",
       "      <td>NaN</td>\n",
       "      <td>other</td>\n",
       "      <td>1</td>\n",
       "      <td>78409.0</td>\n",
       "      <td>NaN</td>\n",
       "      <td>australia</td>\n",
       "      <td>4</td>\n",
       "      <td>0.79</td>\n",
       "      <td>0</td>\n",
       "    </tr>\n",
       "    <tr>\n",
       "      <th>413</th>\n",
       "      <td>referral</td>\n",
       "      <td>manufacturing</td>\n",
       "      <td>2</td>\n",
       "      <td>66206.0</td>\n",
       "      <td>employed</td>\n",
       "      <td>australia</td>\n",
       "      <td>3</td>\n",
       "      <td>0.30</td>\n",
       "      <td>1</td>\n",
       "    </tr>\n",
       "  </tbody>\n",
       "</table>\n",
       "</div>"
      ],
      "text/plain": [
       "       lead_source       industry  number_of_courses_viewed  annual_income  \\\n",
       "892   social_media  manufacturing                         2        56070.0   \n",
       "1106           NaN          other                         1        78409.0   \n",
       "413       referral  manufacturing                         2        66206.0   \n",
       "\n",
       "     employment_status     location  interaction_count  lead_score  converted  \n",
       "892      self_employed  middle_east                  2        0.23          1  \n",
       "1106               NaN    australia                  4        0.79          0  \n",
       "413           employed    australia                  3        0.30          1  "
      ]
     },
     "execution_count": 3,
     "metadata": {},
     "output_type": "execute_result"
    }
   ],
   "source": [
    "url = \"https://raw.githubusercontent.com/alexeygrigorev/datasets/master/course_lead_scoring.csv\"\n",
    "df = pd.read_csv(url)\n",
    "df.sample(3, random_state=42)"
   ]
  },
  {
   "cell_type": "code",
   "execution_count": 4,
   "id": "02fd1394",
   "metadata": {},
   "outputs": [
    {
     "data": {
      "application/vnd.microsoft.datawrangler.viewer.v0+json": {
       "columns": [
        {
         "name": "index",
         "rawType": "object",
         "type": "string"
        },
        {
         "name": "missing_values",
         "rawType": "int64",
         "type": "integer"
        },
        {
         "name": "missing_perc",
         "rawType": "float64",
         "type": "float"
        },
        {
         "name": "types",
         "rawType": "object",
         "type": "unknown"
        }
       ],
       "ref": "98db3e94-fa5e-4fe2-9447-e00c359e5011",
       "rows": [
        [
         "lead_source",
         "128",
         "8.76",
         "object"
        ],
        [
         "industry",
         "134",
         "9.17",
         "object"
        ],
        [
         "number_of_courses_viewed",
         "0",
         "0.0",
         "int64"
        ],
        [
         "annual_income",
         "181",
         "12.38",
         "float64"
        ],
        [
         "employment_status",
         "100",
         "6.84",
         "object"
        ],
        [
         "location",
         "63",
         "4.31",
         "object"
        ],
        [
         "interaction_count",
         "0",
         "0.0",
         "int64"
        ],
        [
         "lead_score",
         "0",
         "0.0",
         "float64"
        ],
        [
         "converted",
         "0",
         "0.0",
         "int64"
        ]
       ],
       "shape": {
        "columns": 3,
        "rows": 9
       }
      },
      "text/html": [
       "<div>\n",
       "<style scoped>\n",
       "    .dataframe tbody tr th:only-of-type {\n",
       "        vertical-align: middle;\n",
       "    }\n",
       "\n",
       "    .dataframe tbody tr th {\n",
       "        vertical-align: top;\n",
       "    }\n",
       "\n",
       "    .dataframe thead th {\n",
       "        text-align: right;\n",
       "    }\n",
       "</style>\n",
       "<table border=\"1\" class=\"dataframe\">\n",
       "  <thead>\n",
       "    <tr style=\"text-align: right;\">\n",
       "      <th></th>\n",
       "      <th>missing_values</th>\n",
       "      <th>missing_perc</th>\n",
       "      <th>types</th>\n",
       "    </tr>\n",
       "  </thead>\n",
       "  <tbody>\n",
       "    <tr>\n",
       "      <th>lead_source</th>\n",
       "      <td>128</td>\n",
       "      <td>8.76</td>\n",
       "      <td>object</td>\n",
       "    </tr>\n",
       "    <tr>\n",
       "      <th>industry</th>\n",
       "      <td>134</td>\n",
       "      <td>9.17</td>\n",
       "      <td>object</td>\n",
       "    </tr>\n",
       "    <tr>\n",
       "      <th>number_of_courses_viewed</th>\n",
       "      <td>0</td>\n",
       "      <td>0.00</td>\n",
       "      <td>int64</td>\n",
       "    </tr>\n",
       "    <tr>\n",
       "      <th>annual_income</th>\n",
       "      <td>181</td>\n",
       "      <td>12.38</td>\n",
       "      <td>float64</td>\n",
       "    </tr>\n",
       "    <tr>\n",
       "      <th>employment_status</th>\n",
       "      <td>100</td>\n",
       "      <td>6.84</td>\n",
       "      <td>object</td>\n",
       "    </tr>\n",
       "    <tr>\n",
       "      <th>location</th>\n",
       "      <td>63</td>\n",
       "      <td>4.31</td>\n",
       "      <td>object</td>\n",
       "    </tr>\n",
       "    <tr>\n",
       "      <th>interaction_count</th>\n",
       "      <td>0</td>\n",
       "      <td>0.00</td>\n",
       "      <td>int64</td>\n",
       "    </tr>\n",
       "    <tr>\n",
       "      <th>lead_score</th>\n",
       "      <td>0</td>\n",
       "      <td>0.00</td>\n",
       "      <td>float64</td>\n",
       "    </tr>\n",
       "    <tr>\n",
       "      <th>converted</th>\n",
       "      <td>0</td>\n",
       "      <td>0.00</td>\n",
       "      <td>int64</td>\n",
       "    </tr>\n",
       "  </tbody>\n",
       "</table>\n",
       "</div>"
      ],
      "text/plain": [
       "                          missing_values  missing_perc    types\n",
       "lead_source                          128          8.76   object\n",
       "industry                             134          9.17   object\n",
       "number_of_courses_viewed               0          0.00    int64\n",
       "annual_income                        181         12.38  float64\n",
       "employment_status                    100          6.84   object\n",
       "location                              63          4.31   object\n",
       "interaction_count                      0          0.00    int64\n",
       "lead_score                             0          0.00  float64\n",
       "converted                              0          0.00    int64"
      ]
     },
     "execution_count": 4,
     "metadata": {},
     "output_type": "execute_result"
    }
   ],
   "source": [
    "# Number of missing values, percentage of missing values and data types\n",
    "pd.DataFrame(\n",
    "    {\n",
    "        \"missing_values\": df.isnull().sum(),\n",
    "        \"missing_perc\": round(df.isnull().mean() * 100, 2),\n",
    "        \"types\": df.dtypes,\n",
    "    }\n",
    ")"
   ]
  },
  {
   "cell_type": "code",
   "execution_count": 5,
   "id": "20f8c9e4",
   "metadata": {},
   "outputs": [],
   "source": [
    "# List of numerical and categorical features\n",
    "numerical_features = df.select_dtypes(include=np.number).columns.tolist()\n",
    "categorical_features = df.select_dtypes(include=\"object\").columns.tolist()\n",
    "\n",
    "# Fill missing values\n",
    "df[numerical_features] = df[numerical_features].fillna(0)\n",
    "df[categorical_features] = df[categorical_features].fillna(\"NA\")"
   ]
  },
  {
   "cell_type": "code",
   "execution_count": 6,
   "id": "1ad647c7",
   "metadata": {},
   "outputs": [
    {
     "data": {
      "application/vnd.microsoft.datawrangler.viewer.v0+json": {
       "columns": [
        {
         "name": "index",
         "rawType": "object",
         "type": "string"
        },
        {
         "name": "missing_values",
         "rawType": "int64",
         "type": "integer"
        },
        {
         "name": "missing_perc",
         "rawType": "float64",
         "type": "float"
        },
        {
         "name": "types",
         "rawType": "object",
         "type": "unknown"
        }
       ],
       "ref": "a9883a68-d181-4adb-90d9-2fd93499225d",
       "rows": [
        [
         "lead_source",
         "0",
         "0.0",
         "object"
        ],
        [
         "industry",
         "0",
         "0.0",
         "object"
        ],
        [
         "number_of_courses_viewed",
         "0",
         "0.0",
         "int64"
        ],
        [
         "annual_income",
         "0",
         "0.0",
         "float64"
        ],
        [
         "employment_status",
         "0",
         "0.0",
         "object"
        ],
        [
         "location",
         "0",
         "0.0",
         "object"
        ],
        [
         "interaction_count",
         "0",
         "0.0",
         "int64"
        ],
        [
         "lead_score",
         "0",
         "0.0",
         "float64"
        ],
        [
         "converted",
         "0",
         "0.0",
         "int64"
        ]
       ],
       "shape": {
        "columns": 3,
        "rows": 9
       }
      },
      "text/html": [
       "<div>\n",
       "<style scoped>\n",
       "    .dataframe tbody tr th:only-of-type {\n",
       "        vertical-align: middle;\n",
       "    }\n",
       "\n",
       "    .dataframe tbody tr th {\n",
       "        vertical-align: top;\n",
       "    }\n",
       "\n",
       "    .dataframe thead th {\n",
       "        text-align: right;\n",
       "    }\n",
       "</style>\n",
       "<table border=\"1\" class=\"dataframe\">\n",
       "  <thead>\n",
       "    <tr style=\"text-align: right;\">\n",
       "      <th></th>\n",
       "      <th>missing_values</th>\n",
       "      <th>missing_perc</th>\n",
       "      <th>types</th>\n",
       "    </tr>\n",
       "  </thead>\n",
       "  <tbody>\n",
       "    <tr>\n",
       "      <th>lead_source</th>\n",
       "      <td>0</td>\n",
       "      <td>0.0</td>\n",
       "      <td>object</td>\n",
       "    </tr>\n",
       "    <tr>\n",
       "      <th>industry</th>\n",
       "      <td>0</td>\n",
       "      <td>0.0</td>\n",
       "      <td>object</td>\n",
       "    </tr>\n",
       "    <tr>\n",
       "      <th>number_of_courses_viewed</th>\n",
       "      <td>0</td>\n",
       "      <td>0.0</td>\n",
       "      <td>int64</td>\n",
       "    </tr>\n",
       "    <tr>\n",
       "      <th>annual_income</th>\n",
       "      <td>0</td>\n",
       "      <td>0.0</td>\n",
       "      <td>float64</td>\n",
       "    </tr>\n",
       "    <tr>\n",
       "      <th>employment_status</th>\n",
       "      <td>0</td>\n",
       "      <td>0.0</td>\n",
       "      <td>object</td>\n",
       "    </tr>\n",
       "    <tr>\n",
       "      <th>location</th>\n",
       "      <td>0</td>\n",
       "      <td>0.0</td>\n",
       "      <td>object</td>\n",
       "    </tr>\n",
       "    <tr>\n",
       "      <th>interaction_count</th>\n",
       "      <td>0</td>\n",
       "      <td>0.0</td>\n",
       "      <td>int64</td>\n",
       "    </tr>\n",
       "    <tr>\n",
       "      <th>lead_score</th>\n",
       "      <td>0</td>\n",
       "      <td>0.0</td>\n",
       "      <td>float64</td>\n",
       "    </tr>\n",
       "    <tr>\n",
       "      <th>converted</th>\n",
       "      <td>0</td>\n",
       "      <td>0.0</td>\n",
       "      <td>int64</td>\n",
       "    </tr>\n",
       "  </tbody>\n",
       "</table>\n",
       "</div>"
      ],
      "text/plain": [
       "                          missing_values  missing_perc    types\n",
       "lead_source                            0           0.0   object\n",
       "industry                               0           0.0   object\n",
       "number_of_courses_viewed               0           0.0    int64\n",
       "annual_income                          0           0.0  float64\n",
       "employment_status                      0           0.0   object\n",
       "location                               0           0.0   object\n",
       "interaction_count                      0           0.0    int64\n",
       "lead_score                             0           0.0  float64\n",
       "converted                              0           0.0    int64"
      ]
     },
     "execution_count": 6,
     "metadata": {},
     "output_type": "execute_result"
    }
   ],
   "source": [
    "# Number of missing values, percentage of missing values and data types\n",
    "pd.DataFrame(\n",
    "    {\n",
    "        \"missing_values\": df.isnull().sum(),\n",
    "        \"missing_perc\": round(df.isnull().mean() * 100, 2),\n",
    "        \"types\": df.dtypes,\n",
    "    }\n",
    ")\n"
   ]
  },
  {
   "cell_type": "code",
   "execution_count": 7,
   "id": "ca7d9272",
   "metadata": {},
   "outputs": [
    {
     "data": {
      "text/plain": [
       "(876, 293, 293)"
      ]
     },
     "execution_count": 7,
     "metadata": {},
     "output_type": "execute_result"
    }
   ],
   "source": [
    "# Split the data into 3 parts: train/validation/test with 60%/20%/20% distribution. Use train_test_split function for that with random_state=1\n",
    "# Train, Test, Validation split\n",
    "full_train_df, test_df = train_test_split(df, test_size=0.2, random_state=1)\n",
    "train_df, val_df = train_test_split(full_train_df, test_size=0.25, random_state=1)\n",
    "len(train_df), len(val_df), len(test_df)"
   ]
  },
  {
   "cell_type": "code",
   "execution_count": 8,
   "id": "38987f1f",
   "metadata": {},
   "outputs": [],
   "source": [
    "# Prepare data for modeling\n",
    "target = \"converted\"\n",
    "features = numerical_features + categorical_features\n",
    "features.remove(target)\n",
    "\n",
    "# Training set\n",
    "X_train = train_df[features].reset_index(drop=True)\n",
    "y_train = train_df[target].reset_index(drop=True)\n",
    "\n",
    "# Validation set\n",
    "X_val = val_df[features].reset_index(drop=True)\n",
    "y_val = val_df[target].reset_index(drop=True)\n",
    "\n",
    "# Test set\n",
    "X_test = test_df[features].reset_index(drop=True)\n",
    "y_test = test_df[target].reset_index(drop=True)"
   ]
  },
  {
   "cell_type": "markdown",
   "id": "7dfe753d",
   "metadata": {},
   "source": [
    "## Question 1: ROC AUC feature importance\n",
    "\n",
    "ROC AUC could also be used to evaluate feature importance of numerical variables.\n",
    "\n",
    "Let's do that\n",
    "\n",
    "- For each numerical variable, use it as score (aka prediction) and compute the AUC with the y variable as ground truth.\n",
    "- Use the training dataset for that\n",
    "\n",
    "If your AUC is < 0.5, invert this variable by putting \"-\" in front\n",
    "\n",
    "(e.g. -df_train['balance'])\n",
    "\n",
    "AUC can go below 0.5 if the variable is negatively correlated with the target variable. You can change the direction of the correlation by negating this variable - then negative correlation becomes positive.\n",
    "\n",
    "Which numerical variable (among the following 4) has the highest AUC?\n",
    "\n",
    "- `lead_score`\n",
    "- `number_of_courses_viewed`\n",
    "- `interaction_count`\n",
    "- `annual_income`\n"
   ]
  },
  {
   "cell_type": "code",
   "execution_count": 9,
   "id": "7c3aac66",
   "metadata": {},
   "outputs": [
    {
     "name": "stdout",
     "output_type": "stream",
     "text": [
      "['number_of_courses_viewed', 'annual_income', 'interaction_count', 'lead_score']\n"
     ]
    }
   ],
   "source": [
    "# Numerical values to check AUC\n",
    "numerical = numerical_features.copy()\n",
    "numerical.remove(target)\n",
    "print(numerical)"
   ]
  },
  {
   "cell_type": "code",
   "execution_count": 10,
   "id": "e63c1287",
   "metadata": {},
   "outputs": [
    {
     "name": "stdout",
     "output_type": "stream",
     "text": [
      "number_of_courses_viewed | AUC: 0.764\n",
      "annual_income            | AUC: 0.552\n",
      "interaction_count        | AUC: 0.738\n",
      "lead_score               | AUC: 0.614\n"
     ]
    }
   ],
   "source": [
    "# Calculate AUC for each numerical feature\n",
    "for feat in numerical:\n",
    "    auc = roc_auc_score(y_train, X_train[feat])\n",
    "    if auc < 0.5:\n",
    "        auc = roc_auc_score(y_train, -X_train[feat])\n",
    "    print(f\"{feat:<25}| AUC: {auc:.3f}\")"
   ]
  },
  {
   "cell_type": "markdown",
   "id": "78144e4b",
   "metadata": {},
   "source": [
    "## Question 2: Training the model\n",
    "\n",
    "Apply one-hot-encoding using DictVectorizer and train the logistic regression with these parameters:\n",
    "\n",
    "```python\n",
    "LogisticRegression(solver='liblinear', C=1.0, max_iter=1000)\n",
    "```\n",
    "\n",
    "What's the AUC of this model on the validation dataset? (round to 3 digits)\n",
    "\n",
    "- 0.32\n",
    "- 0.52\n",
    "- 0.72\n",
    "- 0.92\n"
   ]
  },
  {
   "cell_type": "code",
   "execution_count": 11,
   "id": "be65ed35",
   "metadata": {},
   "outputs": [
    {
     "data": {
      "text/plain": [
       "((876, 31), (293, 31))"
      ]
     },
     "execution_count": 11,
     "metadata": {},
     "output_type": "execute_result"
    }
   ],
   "source": [
    "# One-hot encoding\n",
    "dv = DictVectorizer(sparse=False)\n",
    "\n",
    "X_train = dv.fit_transform(X_train.to_dict(orient=\"records\"))\n",
    "X_val = dv.transform(X_val.to_dict(orient=\"records\"))\n",
    "\n",
    "X_train.shape, X_val.shape"
   ]
  },
  {
   "cell_type": "code",
   "execution_count": 12,
   "id": "462edf04",
   "metadata": {},
   "outputs": [
    {
     "name": "stdout",
     "output_type": "stream",
     "text": [
      "Validation set AUC: 0.817\n"
     ]
    }
   ],
   "source": [
    "# Logistic Regression\n",
    "model = LogisticRegression(solver=\"liblinear\", C=1.0, max_iter=1_000)\n",
    "model.fit(X_train, y_train)\n",
    "\n",
    "# Validation set predictions\n",
    "y_pred = model.predict_proba(X_val)[:, 1]\n",
    "\n",
    "# AUC score\n",
    "auc = roc_auc_score(y_val, y_pred)\n",
    "print(f\"Validation set AUC: {auc:.3f}\")"
   ]
  },
  {
   "cell_type": "markdown",
   "id": "41c591d5",
   "metadata": {},
   "source": [
    "## Question 3: Precision and Recall\n",
    "\n",
    "Now let's compute precision and recall for our model.\n",
    "\n",
    "- Evaluate the model on all thresholds from 0.0 to 1.0 with step 0.01\n",
    "- For each threshold, compute precision and recall\n",
    "- Plot them\n",
    "\n",
    "At which threshold precision and recall curves intersect?\n",
    "\n",
    "- 0.145\n",
    "- 0.345\n",
    "- 0.545\n",
    "- 0.745\n"
   ]
  },
  {
   "cell_type": "code",
   "execution_count": 13,
   "id": "3cf227f6",
   "metadata": {},
   "outputs": [
    {
     "name": "stdout",
     "output_type": "stream",
     "text": [
      "Intersection threshold: 0.640\n"
     ]
    }
   ],
   "source": [
    "# Thresholds\n",
    "thresholds = np.linspace(start=0.0, stop=1.0, num=101)\n",
    "\n",
    "# Scores\n",
    "scores = []\n",
    "\n",
    "# Evaluate thresholds\n",
    "for t in thresholds:\n",
    "    # Apply threshol to get binary prediction\n",
    "    y_val_binary = (y_pred >= t).astype(int)\n",
    "\n",
    "    # Calculate Precision and Recall\n",
    "    p = precision_score(y_val, y_val_binary, zero_division=0)\n",
    "    r = recall_score(y_val, y_val_binary)\n",
    "\n",
    "    scores.append((t, p, r))\n",
    "\n",
    "df_scores = pd.DataFrame(scores, columns=[\"threshold\", \"precision\", \"recall\"])\n",
    "\n",
    "# Absolute difference between precision and recall\n",
    "df_scores[\"pr_diff\"] = np.abs(df_scores[\"precision\"] - df_scores[\"recall\"])\n",
    "\n",
    "# Find the threshold where this difference is minimal\n",
    "intersection_threshold = (\n",
    "    df_scores.query(\"precision != 0 & recall != 0\")\n",
    "    .sort_values(by=\"pr_diff\")\n",
    "    .head(1)[\"threshold\"]\n",
    "    .values[0]\n",
    ")\n",
    "\n",
    "print(f\"Intersection threshold: {intersection_threshold:.3f}\")"
   ]
  },
  {
   "cell_type": "code",
   "execution_count": 14,
   "id": "4d0a8c05",
   "metadata": {},
   "outputs": [
    {
     "data": {
      "image/png": "[encoded data removed]",
      "text/plain": [
       "<Figure size 800x500 with 1 Axes>"
      ]
     },
     "metadata": {},
     "output_type": "display_data"
    }
   ],
   "source": [
    "# Precision and Recall plot\n",
    "plt.figure(figsize=(8, 5))\n",
    "\n",
    "sns.lineplot(\n",
    "    data=df_scores, x=\"threshold\", y=\"precision\", label=\"Precision\", color=\"skyblue\"\n",
    ")\n",
    "\n",
    "sns.lineplot(data=df_scores, x=\"threshold\", y=\"recall\", label=\"Recall\", color=\"salmon\")\n",
    "\n",
    "plt.axvline(\n",
    "    x=intersection_threshold,\n",
    "    color=\"gray\",\n",
    "    linestyle=\"--\",\n",
    "    label=f\"Intersection Threshold at ~ {intersection_threshold:.2f}\",\n",
    ")\n",
    "\n",
    "plt.grid(False)\n",
    "\n",
    "plt.xlabel(\"Threshold\")\n",
    "plt.ylabel(\"Score\")\n",
    "plt.title(\"Precision and Recall vs. Threshold\")\n",
    "\n",
    "plt.legend()\n",
    "plt.show()"
   ]
  },
  {
   "cell_type": "markdown",
   "id": "09927270",
   "metadata": {},
   "source": [
    "## Question 4: F1 score\n",
    "\n",
    "Precision and recall are conflicting - when one grows, the other goes down. That's why they are often combined into the F1 score - a metrics that takes into account both\n",
    "\n",
    "This is the formula for computing F1:\n",
    "\n",
    "$F_1 = 2 ⋅ \\frac{P ⋅ R}{P + R}$\n",
    "\n",
    "Where P is precision and R is recall.\n",
    "\n",
    "Let's compute F1 for all thresholds from 0.0 to 1.0 with increment 0.01\n",
    "\n",
    "At which threshold F1 is maximal?\n",
    "\n",
    "- 0.14\n",
    "- 0.34\n",
    "- 0.54\n",
    "- 0.74\n"
   ]
  },
  {
   "cell_type": "code",
   "execution_count": 15,
   "id": "22bba15a",
   "metadata": {},
   "outputs": [
    {
     "name": "stdout",
     "output_type": "stream",
     "text": [
      "The best threshold based on F1 score is: 0.570\n"
     ]
    }
   ],
   "source": [
    "df_scores[\"f1_score\"] = (\n",
    "    2\n",
    "    * (df_scores.precision * df_scores.recall)\n",
    "    / (df_scores.precision + df_scores.recall)\n",
    ")\n",
    "\n",
    "best_f1_threshold = df_scores.iloc[np.argmax(df_scores.f1_score)][\"threshold\"]\n",
    "\n",
    "print(f\"The best threshold based on F1 score is: {best_f1_threshold:.3f}\")"
   ]
  },
  {
   "cell_type": "markdown",
   "id": "1535bec7",
   "metadata": {},
   "source": [
    "## Question 5: 5-Fold CV\n",
    "\n",
    "Use the KFold class from Scikit-Learn to evaluate our model on 5 different folds:\n",
    "\n",
    "```python\n",
    "KFold(n_splits=5, shuffle=True, random_state=1)\n",
    "```\n",
    "\n",
    "- Iterate over different folds of df_full_train\n",
    "- Split the data into train and validation\n",
    "- Train the model on train with these parameters: LogisticRegression(solver='liblinear', C=1.0, max_iter=1000)\n",
    "- Use AUC to evaluate the model on validation\n",
    "\n",
    "How large is standard deviation of the scores across different folds?\n",
    "\n",
    "- 0.0001\n",
    "- 0.006\n",
    "- 0.06\n",
    "- 0.36\n"
   ]
  },
  {
   "cell_type": "code",
   "execution_count": 16,
   "id": "058338be",
   "metadata": {},
   "outputs": [
    {
     "name": "stdout",
     "output_type": "stream",
     "text": [
      "AUC scores per fold: [0.806, 0.871, 0.775, 0.802, 0.856]\n",
      "Standard Deviation: 0.0358\n"
     ]
    }
   ],
   "source": [
    "# Initialize k-fold for cross validation\n",
    "kfold = KFold(n_splits=5, shuffle=True, random_state=1)\n",
    "\n",
    "auc_scores = []\n",
    "\n",
    "# Cross Validation\n",
    "for train_idx, val_idx in kfold.split(full_train_df):\n",
    "    # Create train and validation sets for this fold\n",
    "    df_train_fold = full_train_df.iloc[train_idx]\n",
    "    df_val_fold = full_train_df.iloc[val_idx]\n",
    "\n",
    "    # Get the target variable\n",
    "    y_train_fold = df_train_fold[target].to_numpy()\n",
    "    y_val_fold = df_val_fold[target].to_numpy()\n",
    "\n",
    "    # One-hot enconding\n",
    "    # Initialize and Fit the vectorizer\n",
    "    dv_fold = DictVectorizer(sparse=False)\n",
    "\n",
    "    X_train_fold = dv_fold.fit_transform(\n",
    "        df_train_fold[features].to_dict(orient=\"records\")\n",
    "    )\n",
    "\n",
    "    # Transform the validation data using the fitted vectorizer\n",
    "    X_val_fold = dv_fold.transform(df_val_fold[features].to_dict(orient=\"records\"))\n",
    "\n",
    "    # Train the model\n",
    "    model_fold = LogisticRegression(solver=\"liblinear\", C=1.0, max_iter=1_000)\n",
    "    model_fold.fit(X_train_fold, y_train_fold)\n",
    "\n",
    "    # Get predictions and calculate AUC\n",
    "    y_pred_fold = model_fold.predict_proba(X_val_fold)[:, 1]\n",
    "    auc = roc_auc_score(y_val_fold, y_pred_fold)\n",
    "    auc_scores.append(auc)\n",
    "\n",
    "# Calculate the Standard Deviation of AUC\n",
    "std_auc = np.std(auc_scores)\n",
    "\n",
    "print(f\"AUC scores per fold: {[round(s, 3) for s in auc_scores]}\")\n",
    "print(f\"Standard Deviation: {std_auc:.4f}\")"
   ]
  },
  {
   "cell_type": "markdown",
   "id": "fc352bd9",
   "metadata": {},
   "source": [
    "## Question 6: Hyperparameter Tuning\n",
    "\n",
    "Now let's use 5-Fold cross-validation to find the best parameter C\n",
    "\n",
    "- Iterate over the following C values: [0.000001, 0.001, 1]\n",
    "- Initialize KFold with the same parameters as previously\n",
    "- Use these parameters for the model: LogisticRegression(solver='liblinear', C=C, max_iter=1000)\n",
    "- Compute the mean score as well as the std (round the mean and std to 3 decimal digits)\n",
    "\n",
    "Which C leads to the best mean score?\n",
    "\n",
    "- 0.000001\n",
    "- 0.001\n",
    "- 1\n",
    "\n",
    "If you have ties, select the score with the lowest std. If you still have ties, select the smallest C.\n"
   ]
  },
  {
   "cell_type": "code",
   "execution_count": 17,
   "id": "60ea1a3c",
   "metadata": {},
   "outputs": [
    {
     "name": "stdout",
     "output_type": "stream",
     "text": [
      "C = 0.000001 | Mean AUC: 0.560 | Std: 0.024\n",
      "C = 0.001000 | Mean AUC: 0.867 | Std: 0.029\n",
      "C = 1.000000 | Mean AUC: 0.822 | Std: 0.036\n"
     ]
    }
   ],
   "source": [
    "C_values = [0.000001, 0.001, 1.0]\n",
    "\n",
    "# Initialize k-fold for cross validation\n",
    "kfold = KFold(n_splits=5, shuffle=True, random_state=1)\n",
    "\n",
    "cv_results = {}\n",
    "\n",
    "for C in C_values:\n",
    "    auc_scores_fold = []\n",
    "\n",
    "    # Cross Validation\n",
    "    for train_idx, val_idx in kfold.split(full_train_df):\n",
    "        # Create train and validation sets for this fold\n",
    "        df_train_fold = full_train_df.iloc[train_idx]\n",
    "        df_val_fold = full_train_df.iloc[val_idx]\n",
    "\n",
    "        # Get the target variable\n",
    "        y_train_fold = df_train_fold[target].to_numpy()\n",
    "        y_val_fold = df_val_fold[target].to_numpy()\n",
    "\n",
    "        # One-hot enconding\n",
    "        # Initialize and Fit the vectorizer\n",
    "        dv_fold = DictVectorizer(sparse=False)\n",
    "\n",
    "        X_train_fold = dv_fold.fit_transform(\n",
    "            df_train_fold[features].to_dict(orient=\"records\")\n",
    "        )\n",
    "\n",
    "        # Transform the validation data using the fitted vectorizer\n",
    "        X_val_fold = dv_fold.transform(df_val_fold[features].to_dict(orient=\"records\"))\n",
    "\n",
    "        # Train the model\n",
    "        model_fold = LogisticRegression(solver=\"liblinear\", C=C, max_iter=1_000)\n",
    "        model_fold.fit(X_train_fold, y_train_fold)\n",
    "\n",
    "        # Get predictions and calculate AUC\n",
    "        y_pred_fold = model_fold.predict_proba(X_val_fold)[:, 1]\n",
    "        auc = roc_auc_score(y_val_fold, y_pred_fold)\n",
    "        auc_scores_fold.append(auc)\n",
    "\n",
    "    # Calculate mean and std for this C\n",
    "    mean_auc = np.mean(auc_scores_fold)\n",
    "    std_auc = np.std(auc_scores_fold)\n",
    "\n",
    "    cv_results[C] = {\"mean_auc\": mean_auc, \"std_auc\": std_auc}\n",
    "\n",
    "    print(f\"C = {C:<8.6f} | Mean AUC: {mean_auc:.3f} | Std: {std_auc:.3f}\")"
   ]
  },
  {
   "cell_type": "code",
   "execution_count": 18,
   "id": "ab3c32a8",
   "metadata": {},
   "outputs": [
    {
     "name": "stdout",
     "output_type": "stream",
     "text": [
      "\n",
      "Best C value: 0.001\n"
     ]
    }
   ],
   "source": [
    "best_C = None\n",
    "best_mean_auc = -1\n",
    "best_std = float(\"inf\")\n",
    "\n",
    "for C, scores in cv_results.items():\n",
    "    mean_auc = scores[\"mean_auc\"]\n",
    "    std_auc = scores[\"std_auc\"]\n",
    "\n",
    "    if mean_auc > best_mean_auc:\n",
    "        best_mean_auc = mean_auc\n",
    "        best_std = std_auc\n",
    "        best_C = C\n",
    "    elif mean_auc == best_mean_auc:\n",
    "        if std_auc < best_std:  # Tie-breaker: lower std\n",
    "            best_std = std_auc\n",
    "            best_C = C\n",
    "\n",
    "print(f\"\\nBest C value: {best_C}\")"
   ]
  },
  {
   "cell_type": "code",
   "execution_count": 19,
   "id": "f4552a33",
   "metadata": {},
   "outputs": [
    {
     "name": "stdout",
     "output_type": "stream",
     "text": [
      "The best C is: 0.001 with a mean AUC of 0.867 and std of 0.029\n"
     ]
    }
   ],
   "source": [
    "print(\n",
    "    f\"The best C is: {best_C} with a mean AUC of {cv_results[best_C]['mean_auc']:.3f} and std of {cv_results[best_C]['std_auc']:.3f}\"\n",
    ")"
   ]
  }
 ],
 "metadata": {
  "kernelspec": {
   "display_name": "mlzoomcamp-env",
   "language": "python",
   "name": "python3"
  },
  "language_info": {
   "codemirror_mode": {
    "name": "ipython",
    "version": 3
   },
   "file_extension": ".py",
   "mimetype": "text/x-python",
   "name": "python",
   "nbconvert_exporter": "python",
   "pygments_lexer": "ipython3",
   "version": "3.11.13"
  }
 },
 "nbformat": 4,
 "nbformat_minor": 5
}
